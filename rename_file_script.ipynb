{
 "cells": [
  {
   "cell_type": "code",
   "execution_count": 1,
   "id": "5f6a56ad-cf1d-4bc5-ad45-c139fdc09b36",
   "metadata": {},
   "outputs": [],
   "source": [
    "import os \n"
   ]
  },
  {
   "cell_type": "code",
   "execution_count": 3,
   "id": "2a3cb7e4-f5bd-4ca5-baf0-87ec1184338d",
   "metadata": {},
   "outputs": [],
   "source": [
    "folder_path = \"Dataset_mri_classifier/Mri\" "
   ]
  },
  {
   "cell_type": "code",
   "execution_count": 5,
   "id": "f21000ee-520d-4a1c-aa69-599b6dfb7329",
   "metadata": {},
   "outputs": [
    {
     "name": "stdout",
     "output_type": "stream",
     "text": [
      "all files are renamed\n"
     ]
    }
   ],
   "source": [
    "for count,filename in enumerate (os.listdir(folder_path)):\n",
    "    old_file = os.path.join(folder_path,filename)\n",
    "\n",
    "    #get file format like .jpg.png\n",
    "    extension = os.path.splitext(filename)[1]\n",
    "\n",
    "    #create  new filename\n",
    "    new_filename = f\"mri{(count)}{extension}\"\n",
    "    new_file = os.path.join(folder_path,new_filename)\n",
    "\n",
    "    #rename file\n",
    "    os.rename(old_file,new_file)\n",
    "\n",
    "\n",
    "print(\"all files are renamed\")"
   ]
  },
  {
   "cell_type": "code",
   "execution_count": null,
   "id": "d1e24e44-b9af-4357-a433-2c1e8fdc17fe",
   "metadata": {},
   "outputs": [],
   "source": []
  }
 ],
 "metadata": {
  "kernelspec": {
   "display_name": "Python 3 (ipykernel)",
   "language": "python",
   "name": "python3"
  },
  "language_info": {
   "codemirror_mode": {
    "name": "ipython",
    "version": 3
   },
   "file_extension": ".py",
   "mimetype": "text/x-python",
   "name": "python",
   "nbconvert_exporter": "python",
   "pygments_lexer": "ipython3",
   "version": "3.12.7"
  }
 },
 "nbformat": 4,
 "nbformat_minor": 5
}
